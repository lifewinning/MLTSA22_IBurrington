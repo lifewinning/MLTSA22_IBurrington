{
  "nbformat": 4,
  "nbformat_minor": 0,
  "metadata": {
    "kernelspec": {
      "display_name": "Python 3",
      "language": "python",
      "name": "python3"
    },
    "language_info": {
      "codemirror_mode": {
        "name": "ipython",
        "version": 3
      },
      "file_extension": ".py",
      "mimetype": "text/x-python",
      "name": "python",
      "nbconvert_exporter": "python",
      "pygments_lexer": "ipython3",
      "version": "3.7.3"
    },
    "latex_envs": {
      "LaTeX_envs_menu_present": true,
      "autoclose": false,
      "autocomplete": true,
      "bibliofile": "biblio.bib",
      "cite_by": "apalike",
      "current_citInitial": 1,
      "eqLabelWithNumbers": true,
      "eqNumInitial": 1,
      "hotkeys": {
        "equation": "Ctrl-E",
        "itemize": "Ctrl-I"
      },
      "labels_anchors": false,
      "latex_user_defs": false,
      "report_style_numbering": false,
      "user_envs_cfg": false
    },
    "nbTranslate": {
      "displayLangs": [
        "*"
      ],
      "hotkey": "alt-t",
      "langInMainMenu": true,
      "sourceLang": "en",
      "targetLang": "fr",
      "useGoogleTranslate": true
    },
    "toc": {
      "base_numbering": 1,
      "nav_menu": {},
      "number_sections": true,
      "sideBar": true,
      "skip_h1_title": false,
      "title_cell": "Table of Contents",
      "title_sidebar": "Contents",
      "toc_cell": false,
      "toc_position": {},
      "toc_section_display": true,
      "toc_window_display": false
    },
    "colab": {
      "name": "HW8",
      "provenance": [],
      "collapsed_sections": [],
      "include_colab_link": true
    }
  },
  "cells": [
    {
      "cell_type": "markdown",
      "metadata": {
        "id": "view-in-github",
        "colab_type": "text"
      },
      "source": [
        "<a href=\"https://colab.research.google.com/github/lifewinning/MLTSA22_IBurrington/blob/main/HW8/HW8.ipynb\" target=\"_parent\"><img src=\"https://colab.research.google.com/assets/colab-badge.svg\" alt=\"Open In Colab\"/></a>"
      ]
    },
    {
      "cell_type": "markdown",
      "source": [
        "# Notebook setup and packages installation"
      ],
      "metadata": {
        "id": "_KNFSY3-vaMn"
      }
    },
    {
      "cell_type": "code",
      "metadata": {
        "ExecuteTime": {
          "end_time": "2020-04-05T15:08:27.530325Z",
          "start_time": "2020-04-05T15:08:26.971473Z"
        },
        "id": "-G6oPTITlVYd",
        "colab": {
          "base_uri": "https://localhost:8080/"
        },
        "outputId": "6061336c-528c-4d10-9aea-0cc72f299c23"
      },
      "source": [
        "import pandas as pd\n",
        "import numpy as np\n",
        "import pylab as pl\n",
        "import os\n",
        "from scipy import interpolate\n",
        "pl.style.use('seaborn')\n",
        "%pylab inline\n"
      ],
      "execution_count": 110,
      "outputs": [
        {
          "output_type": "stream",
          "name": "stdout",
          "text": [
            "Populating the interactive namespace from numpy and matplotlib\n"
          ]
        }
      ]
    },
    {
      "cell_type": "code",
      "source": [
        "from google.colab import drive\n",
        "drive.mount(\"/content/gdrive\")"
      ],
      "metadata": {
        "colab": {
          "base_uri": "https://localhost:8080/"
        },
        "id": "3JrSePFCQmVQ",
        "outputId": "5d511a6f-f2aa-423b-bf21-57cd4c998ef4"
      },
      "execution_count": 2,
      "outputs": [
        {
          "output_type": "stream",
          "name": "stdout",
          "text": [
            "Drive already mounted at /content/gdrive; to attempt to forcibly remount, call drive.mount(\"/content/gdrive\", force_remount=True).\n"
          ]
        }
      ]
    },
    {
      "cell_type": "code",
      "source": [
        "cd /content/gdrive/MyDrive/MLTSA22/PLAsTiCC2018/"
      ],
      "metadata": {
        "colab": {
          "base_uri": "https://localhost:8080/"
        },
        "id": "cfCQuTPvSTaO",
        "outputId": "d91f10a9-3ced-4dce-d500-b7cd2efaaca3"
      },
      "execution_count": 3,
      "outputs": [
        {
          "output_type": "stream",
          "name": "stdout",
          "text": [
            "/content/gdrive/MyDrive/MLTSA22/PLAsTiCC2018\n"
          ]
        }
      ]
    },
    {
      "cell_type": "code",
      "metadata": {
        "id": "B3GeSII5fsgF"
      },
      "source": [
        "lcvs = pd.read_csv('training_set.csv')"
      ],
      "execution_count": 99,
      "outputs": []
    },
    {
      "cell_type": "code",
      "source": [
        "lcvs.head()"
      ],
      "metadata": {
        "colab": {
          "base_uri": "https://localhost:8080/",
          "height": 206
        },
        "id": "EH5b4mS849qS",
        "outputId": "3ab87461-ce19-4a73-ea13-285b20114839"
      },
      "execution_count": 5,
      "outputs": [
        {
          "output_type": "execute_result",
          "data": {
            "text/plain": [
              "   object_id         mjd  passband        flux   flux_err  detected\n",
              "0        615  59750.4229         2 -544.810303   3.622952         1\n",
              "1        615  59750.4306         1 -816.434326   5.553370         1\n",
              "2        615  59750.4383         3 -471.385529   3.801213         1\n",
              "3        615  59750.4450         4 -388.984985  11.395031         1\n",
              "4        615  59752.4070         2 -681.858887   4.041204         1"
            ],
            "text/html": [
              "\n",
              "  <div id=\"df-f16dd1d6-66fd-400e-b1e6-cc47afc9f9ec\">\n",
              "    <div class=\"colab-df-container\">\n",
              "      <div>\n",
              "<style scoped>\n",
              "    .dataframe tbody tr th:only-of-type {\n",
              "        vertical-align: middle;\n",
              "    }\n",
              "\n",
              "    .dataframe tbody tr th {\n",
              "        vertical-align: top;\n",
              "    }\n",
              "\n",
              "    .dataframe thead th {\n",
              "        text-align: right;\n",
              "    }\n",
              "</style>\n",
              "<table border=\"1\" class=\"dataframe\">\n",
              "  <thead>\n",
              "    <tr style=\"text-align: right;\">\n",
              "      <th></th>\n",
              "      <th>object_id</th>\n",
              "      <th>mjd</th>\n",
              "      <th>passband</th>\n",
              "      <th>flux</th>\n",
              "      <th>flux_err</th>\n",
              "      <th>detected</th>\n",
              "    </tr>\n",
              "  </thead>\n",
              "  <tbody>\n",
              "    <tr>\n",
              "      <th>0</th>\n",
              "      <td>615</td>\n",
              "      <td>59750.4229</td>\n",
              "      <td>2</td>\n",
              "      <td>-544.810303</td>\n",
              "      <td>3.622952</td>\n",
              "      <td>1</td>\n",
              "    </tr>\n",
              "    <tr>\n",
              "      <th>1</th>\n",
              "      <td>615</td>\n",
              "      <td>59750.4306</td>\n",
              "      <td>1</td>\n",
              "      <td>-816.434326</td>\n",
              "      <td>5.553370</td>\n",
              "      <td>1</td>\n",
              "    </tr>\n",
              "    <tr>\n",
              "      <th>2</th>\n",
              "      <td>615</td>\n",
              "      <td>59750.4383</td>\n",
              "      <td>3</td>\n",
              "      <td>-471.385529</td>\n",
              "      <td>3.801213</td>\n",
              "      <td>1</td>\n",
              "    </tr>\n",
              "    <tr>\n",
              "      <th>3</th>\n",
              "      <td>615</td>\n",
              "      <td>59750.4450</td>\n",
              "      <td>4</td>\n",
              "      <td>-388.984985</td>\n",
              "      <td>11.395031</td>\n",
              "      <td>1</td>\n",
              "    </tr>\n",
              "    <tr>\n",
              "      <th>4</th>\n",
              "      <td>615</td>\n",
              "      <td>59752.4070</td>\n",
              "      <td>2</td>\n",
              "      <td>-681.858887</td>\n",
              "      <td>4.041204</td>\n",
              "      <td>1</td>\n",
              "    </tr>\n",
              "  </tbody>\n",
              "</table>\n",
              "</div>\n",
              "      <button class=\"colab-df-convert\" onclick=\"convertToInteractive('df-f16dd1d6-66fd-400e-b1e6-cc47afc9f9ec')\"\n",
              "              title=\"Convert this dataframe to an interactive table.\"\n",
              "              style=\"display:none;\">\n",
              "        \n",
              "  <svg xmlns=\"http://www.w3.org/2000/svg\" height=\"24px\"viewBox=\"0 0 24 24\"\n",
              "       width=\"24px\">\n",
              "    <path d=\"M0 0h24v24H0V0z\" fill=\"none\"/>\n",
              "    <path d=\"M18.56 5.44l.94 2.06.94-2.06 2.06-.94-2.06-.94-.94-2.06-.94 2.06-2.06.94zm-11 1L8.5 8.5l.94-2.06 2.06-.94-2.06-.94L8.5 2.5l-.94 2.06-2.06.94zm10 10l.94 2.06.94-2.06 2.06-.94-2.06-.94-.94-2.06-.94 2.06-2.06.94z\"/><path d=\"M17.41 7.96l-1.37-1.37c-.4-.4-.92-.59-1.43-.59-.52 0-1.04.2-1.43.59L10.3 9.45l-7.72 7.72c-.78.78-.78 2.05 0 2.83L4 21.41c.39.39.9.59 1.41.59.51 0 1.02-.2 1.41-.59l7.78-7.78 2.81-2.81c.8-.78.8-2.07 0-2.86zM5.41 20L4 18.59l7.72-7.72 1.47 1.35L5.41 20z\"/>\n",
              "  </svg>\n",
              "      </button>\n",
              "      \n",
              "  <style>\n",
              "    .colab-df-container {\n",
              "      display:flex;\n",
              "      flex-wrap:wrap;\n",
              "      gap: 12px;\n",
              "    }\n",
              "\n",
              "    .colab-df-convert {\n",
              "      background-color: #E8F0FE;\n",
              "      border: none;\n",
              "      border-radius: 50%;\n",
              "      cursor: pointer;\n",
              "      display: none;\n",
              "      fill: #1967D2;\n",
              "      height: 32px;\n",
              "      padding: 0 0 0 0;\n",
              "      width: 32px;\n",
              "    }\n",
              "\n",
              "    .colab-df-convert:hover {\n",
              "      background-color: #E2EBFA;\n",
              "      box-shadow: 0px 1px 2px rgba(60, 64, 67, 0.3), 0px 1px 3px 1px rgba(60, 64, 67, 0.15);\n",
              "      fill: #174EA6;\n",
              "    }\n",
              "\n",
              "    [theme=dark] .colab-df-convert {\n",
              "      background-color: #3B4455;\n",
              "      fill: #D2E3FC;\n",
              "    }\n",
              "\n",
              "    [theme=dark] .colab-df-convert:hover {\n",
              "      background-color: #434B5C;\n",
              "      box-shadow: 0px 1px 3px 1px rgba(0, 0, 0, 0.15);\n",
              "      filter: drop-shadow(0px 1px 2px rgba(0, 0, 0, 0.3));\n",
              "      fill: #FFFFFF;\n",
              "    }\n",
              "  </style>\n",
              "\n",
              "      <script>\n",
              "        const buttonEl =\n",
              "          document.querySelector('#df-f16dd1d6-66fd-400e-b1e6-cc47afc9f9ec button.colab-df-convert');\n",
              "        buttonEl.style.display =\n",
              "          google.colab.kernel.accessAllowed ? 'block' : 'none';\n",
              "\n",
              "        async function convertToInteractive(key) {\n",
              "          const element = document.querySelector('#df-f16dd1d6-66fd-400e-b1e6-cc47afc9f9ec');\n",
              "          const dataTable =\n",
              "            await google.colab.kernel.invokeFunction('convertToInteractive',\n",
              "                                                     [key], {});\n",
              "          if (!dataTable) return;\n",
              "\n",
              "          const docLinkHtml = 'Like what you see? Visit the ' +\n",
              "            '<a target=\"_blank\" href=https://colab.research.google.com/notebooks/data_table.ipynb>data table notebook</a>'\n",
              "            + ' to learn more about interactive tables.';\n",
              "          element.innerHTML = '';\n",
              "          dataTable['output_type'] = 'display_data';\n",
              "          await google.colab.output.renderOutput(dataTable, element);\n",
              "          const docLink = document.createElement('div');\n",
              "          docLink.innerHTML = docLinkHtml;\n",
              "          element.appendChild(docLink);\n",
              "        }\n",
              "      </script>\n",
              "    </div>\n",
              "  </div>\n",
              "  "
            ]
          },
          "metadata": {},
          "execution_count": 5
        }
      ]
    },
    {
      "cell_type": "markdown",
      "metadata": {
        "id": "dvf0NyI9lVYj"
      },
      "source": [
        "# Extract features"
      ]
    },
    {
      "cell_type": "markdown",
      "source": [
        "## Creating a common time frame"
      ],
      "metadata": {
        "id": "lkH4s9bW6jGA"
      }
    },
    {
      "cell_type": "code",
      "source": [
        "lcvs['time_from_start'] = lcvs.groupby(['object_id', 'passband'])[['mjd']].apply(lambda x: x - x.min())"
      ],
      "metadata": {
        "id": "-OtM4SDV6hmQ"
      },
      "execution_count": 100,
      "outputs": []
    },
    {
      "cell_type": "code",
      "source": [
        "lcvs['time_from_start'].median()"
      ],
      "metadata": {
        "colab": {
          "base_uri": "https://localhost:8080/"
        },
        "id": "YRvDnKXVPbO4",
        "outputId": "8d7d6203-c7f1-4f2d-e6c5-6f24735a0dcf"
      },
      "execution_count": 142,
      "outputs": [
        {
          "output_type": "execute_result",
          "data": {
            "text/plain": [
              "430.8918000000049"
            ]
          },
          "metadata": {},
          "execution_count": 142
        }
      ]
    },
    {
      "cell_type": "code",
      "source": [
        "lcvs"
      ],
      "metadata": {
        "colab": {
          "base_uri": "https://localhost:8080/",
          "height": 424
        },
        "id": "B8y42-KxK3cH",
        "outputId": "e127b585-86de-41f8-9fbf-ed83bb71c6d1"
      },
      "execution_count": 102,
      "outputs": [
        {
          "output_type": "execute_result",
          "data": {
            "text/plain": [
              "         object_id         mjd  passband        flux   flux_err  detected  \\\n",
              "0              615  59750.4229         2 -544.810303   3.622952         1   \n",
              "1              615  59750.4306         1 -816.434326   5.553370         1   \n",
              "2              615  59750.4383         3 -471.385529   3.801213         1   \n",
              "3              615  59750.4450         4 -388.984985  11.395031         1   \n",
              "4              615  59752.4070         2 -681.858887   4.041204         1   \n",
              "...            ...         ...       ...         ...        ...       ...   \n",
              "1421700  130779836  60555.9838         4  -39.881969  46.477093         0   \n",
              "1421701  130779836  60560.0459         1   14.894439  18.947685         0   \n",
              "1421702  130779836  60571.0225         5   30.593130  50.695290         0   \n",
              "1421703  130779836  60585.9974         4  -23.471439  44.819859         0   \n",
              "1421704  130779836  60588.0372         0  -41.214264  51.665123         0   \n",
              "\n",
              "         time_from_start  \n",
              "0                 0.0000  \n",
              "1                 0.0000  \n",
              "2                 0.0000  \n",
              "3                 0.0000  \n",
              "4                 1.9841  \n",
              "...                  ...  \n",
              "1421700         833.6750  \n",
              "1421701         806.8968  \n",
              "1421702         855.6906  \n",
              "1421703         863.6886  \n",
              "1421704         770.8949  \n",
              "\n",
              "[1421705 rows x 7 columns]"
            ],
            "text/html": [
              "\n",
              "  <div id=\"df-4fa1a6bf-a5bf-4a75-b9de-f1005813d046\">\n",
              "    <div class=\"colab-df-container\">\n",
              "      <div>\n",
              "<style scoped>\n",
              "    .dataframe tbody tr th:only-of-type {\n",
              "        vertical-align: middle;\n",
              "    }\n",
              "\n",
              "    .dataframe tbody tr th {\n",
              "        vertical-align: top;\n",
              "    }\n",
              "\n",
              "    .dataframe thead th {\n",
              "        text-align: right;\n",
              "    }\n",
              "</style>\n",
              "<table border=\"1\" class=\"dataframe\">\n",
              "  <thead>\n",
              "    <tr style=\"text-align: right;\">\n",
              "      <th></th>\n",
              "      <th>object_id</th>\n",
              "      <th>mjd</th>\n",
              "      <th>passband</th>\n",
              "      <th>flux</th>\n",
              "      <th>flux_err</th>\n",
              "      <th>detected</th>\n",
              "      <th>time_from_start</th>\n",
              "    </tr>\n",
              "  </thead>\n",
              "  <tbody>\n",
              "    <tr>\n",
              "      <th>0</th>\n",
              "      <td>615</td>\n",
              "      <td>59750.4229</td>\n",
              "      <td>2</td>\n",
              "      <td>-544.810303</td>\n",
              "      <td>3.622952</td>\n",
              "      <td>1</td>\n",
              "      <td>0.0000</td>\n",
              "    </tr>\n",
              "    <tr>\n",
              "      <th>1</th>\n",
              "      <td>615</td>\n",
              "      <td>59750.4306</td>\n",
              "      <td>1</td>\n",
              "      <td>-816.434326</td>\n",
              "      <td>5.553370</td>\n",
              "      <td>1</td>\n",
              "      <td>0.0000</td>\n",
              "    </tr>\n",
              "    <tr>\n",
              "      <th>2</th>\n",
              "      <td>615</td>\n",
              "      <td>59750.4383</td>\n",
              "      <td>3</td>\n",
              "      <td>-471.385529</td>\n",
              "      <td>3.801213</td>\n",
              "      <td>1</td>\n",
              "      <td>0.0000</td>\n",
              "    </tr>\n",
              "    <tr>\n",
              "      <th>3</th>\n",
              "      <td>615</td>\n",
              "      <td>59750.4450</td>\n",
              "      <td>4</td>\n",
              "      <td>-388.984985</td>\n",
              "      <td>11.395031</td>\n",
              "      <td>1</td>\n",
              "      <td>0.0000</td>\n",
              "    </tr>\n",
              "    <tr>\n",
              "      <th>4</th>\n",
              "      <td>615</td>\n",
              "      <td>59752.4070</td>\n",
              "      <td>2</td>\n",
              "      <td>-681.858887</td>\n",
              "      <td>4.041204</td>\n",
              "      <td>1</td>\n",
              "      <td>1.9841</td>\n",
              "    </tr>\n",
              "    <tr>\n",
              "      <th>...</th>\n",
              "      <td>...</td>\n",
              "      <td>...</td>\n",
              "      <td>...</td>\n",
              "      <td>...</td>\n",
              "      <td>...</td>\n",
              "      <td>...</td>\n",
              "      <td>...</td>\n",
              "    </tr>\n",
              "    <tr>\n",
              "      <th>1421700</th>\n",
              "      <td>130779836</td>\n",
              "      <td>60555.9838</td>\n",
              "      <td>4</td>\n",
              "      <td>-39.881969</td>\n",
              "      <td>46.477093</td>\n",
              "      <td>0</td>\n",
              "      <td>833.6750</td>\n",
              "    </tr>\n",
              "    <tr>\n",
              "      <th>1421701</th>\n",
              "      <td>130779836</td>\n",
              "      <td>60560.0459</td>\n",
              "      <td>1</td>\n",
              "      <td>14.894439</td>\n",
              "      <td>18.947685</td>\n",
              "      <td>0</td>\n",
              "      <td>806.8968</td>\n",
              "    </tr>\n",
              "    <tr>\n",
              "      <th>1421702</th>\n",
              "      <td>130779836</td>\n",
              "      <td>60571.0225</td>\n",
              "      <td>5</td>\n",
              "      <td>30.593130</td>\n",
              "      <td>50.695290</td>\n",
              "      <td>0</td>\n",
              "      <td>855.6906</td>\n",
              "    </tr>\n",
              "    <tr>\n",
              "      <th>1421703</th>\n",
              "      <td>130779836</td>\n",
              "      <td>60585.9974</td>\n",
              "      <td>4</td>\n",
              "      <td>-23.471439</td>\n",
              "      <td>44.819859</td>\n",
              "      <td>0</td>\n",
              "      <td>863.6886</td>\n",
              "    </tr>\n",
              "    <tr>\n",
              "      <th>1421704</th>\n",
              "      <td>130779836</td>\n",
              "      <td>60588.0372</td>\n",
              "      <td>0</td>\n",
              "      <td>-41.214264</td>\n",
              "      <td>51.665123</td>\n",
              "      <td>0</td>\n",
              "      <td>770.8949</td>\n",
              "    </tr>\n",
              "  </tbody>\n",
              "</table>\n",
              "<p>1421705 rows × 7 columns</p>\n",
              "</div>\n",
              "      <button class=\"colab-df-convert\" onclick=\"convertToInteractive('df-4fa1a6bf-a5bf-4a75-b9de-f1005813d046')\"\n",
              "              title=\"Convert this dataframe to an interactive table.\"\n",
              "              style=\"display:none;\">\n",
              "        \n",
              "  <svg xmlns=\"http://www.w3.org/2000/svg\" height=\"24px\"viewBox=\"0 0 24 24\"\n",
              "       width=\"24px\">\n",
              "    <path d=\"M0 0h24v24H0V0z\" fill=\"none\"/>\n",
              "    <path d=\"M18.56 5.44l.94 2.06.94-2.06 2.06-.94-2.06-.94-.94-2.06-.94 2.06-2.06.94zm-11 1L8.5 8.5l.94-2.06 2.06-.94-2.06-.94L8.5 2.5l-.94 2.06-2.06.94zm10 10l.94 2.06.94-2.06 2.06-.94-2.06-.94-.94-2.06-.94 2.06-2.06.94z\"/><path d=\"M17.41 7.96l-1.37-1.37c-.4-.4-.92-.59-1.43-.59-.52 0-1.04.2-1.43.59L10.3 9.45l-7.72 7.72c-.78.78-.78 2.05 0 2.83L4 21.41c.39.39.9.59 1.41.59.51 0 1.02-.2 1.41-.59l7.78-7.78 2.81-2.81c.8-.78.8-2.07 0-2.86zM5.41 20L4 18.59l7.72-7.72 1.47 1.35L5.41 20z\"/>\n",
              "  </svg>\n",
              "      </button>\n",
              "      \n",
              "  <style>\n",
              "    .colab-df-container {\n",
              "      display:flex;\n",
              "      flex-wrap:wrap;\n",
              "      gap: 12px;\n",
              "    }\n",
              "\n",
              "    .colab-df-convert {\n",
              "      background-color: #E8F0FE;\n",
              "      border: none;\n",
              "      border-radius: 50%;\n",
              "      cursor: pointer;\n",
              "      display: none;\n",
              "      fill: #1967D2;\n",
              "      height: 32px;\n",
              "      padding: 0 0 0 0;\n",
              "      width: 32px;\n",
              "    }\n",
              "\n",
              "    .colab-df-convert:hover {\n",
              "      background-color: #E2EBFA;\n",
              "      box-shadow: 0px 1px 2px rgba(60, 64, 67, 0.3), 0px 1px 3px 1px rgba(60, 64, 67, 0.15);\n",
              "      fill: #174EA6;\n",
              "    }\n",
              "\n",
              "    [theme=dark] .colab-df-convert {\n",
              "      background-color: #3B4455;\n",
              "      fill: #D2E3FC;\n",
              "    }\n",
              "\n",
              "    [theme=dark] .colab-df-convert:hover {\n",
              "      background-color: #434B5C;\n",
              "      box-shadow: 0px 1px 3px 1px rgba(0, 0, 0, 0.15);\n",
              "      filter: drop-shadow(0px 1px 2px rgba(0, 0, 0, 0.3));\n",
              "      fill: #FFFFFF;\n",
              "    }\n",
              "  </style>\n",
              "\n",
              "      <script>\n",
              "        const buttonEl =\n",
              "          document.querySelector('#df-4fa1a6bf-a5bf-4a75-b9de-f1005813d046 button.colab-df-convert');\n",
              "        buttonEl.style.display =\n",
              "          google.colab.kernel.accessAllowed ? 'block' : 'none';\n",
              "\n",
              "        async function convertToInteractive(key) {\n",
              "          const element = document.querySelector('#df-4fa1a6bf-a5bf-4a75-b9de-f1005813d046');\n",
              "          const dataTable =\n",
              "            await google.colab.kernel.invokeFunction('convertToInteractive',\n",
              "                                                     [key], {});\n",
              "          if (!dataTable) return;\n",
              "\n",
              "          const docLinkHtml = 'Like what you see? Visit the ' +\n",
              "            '<a target=\"_blank\" href=https://colab.research.google.com/notebooks/data_table.ipynb>data table notebook</a>'\n",
              "            + ' to learn more about interactive tables.';\n",
              "          element.innerHTML = '';\n",
              "          dataTable['output_type'] = 'display_data';\n",
              "          await google.colab.output.renderOutput(dataTable, element);\n",
              "          const docLink = document.createElement('div');\n",
              "          docLink.innerHTML = docLinkHtml;\n",
              "          element.appendChild(docLink);\n",
              "        }\n",
              "      </script>\n",
              "    </div>\n",
              "  </div>\n",
              "  "
            ]
          },
          "metadata": {},
          "execution_count": 102
        }
      ]
    },
    {
      "cell_type": "markdown",
      "source": [
        "## Organize timeseries by ID and passband \n",
        "Method for turning groupbys to lists found [here](https://stackoverflow.com/questions/50961341/convert-groupby-values-into-list-of-arrays), there is probably a simpler way to do this than what I'm doing but I could not figure out how to turn a groupby into multiple dataframes? "
      ],
      "metadata": {
        "id": "9S5OhxKLHFYH"
      }
    },
    {
      "cell_type": "code",
      "source": [
        "lcvs_group = lcvs.groupby(['object_id','passband'])"
      ],
      "metadata": {
        "id": "WwGYwyVD73os"
      },
      "execution_count": 69,
      "outputs": []
    },
    {
      "cell_type": "code",
      "source": [
        "lcvs_tolist = lcvs_group.apply(pd.Series.tolist).tolist()"
      ],
      "metadata": {
        "id": "FtRE2_DyH-IL"
      },
      "execution_count": 74,
      "outputs": []
    },
    {
      "cell_type": "code",
      "source": [
        "lcvs_tolist[1]"
      ],
      "metadata": {
        "colab": {
          "base_uri": "https://localhost:8080/"
        },
        "id": "7cCzMCJjLPRK",
        "outputId": "0915bfc2-2e70-4f36-918e-a2878b9e48fd"
      },
      "execution_count": 157,
      "outputs": [
        {
          "output_type": "execute_result",
          "data": {
            "text/plain": [
              "[[615.0, 59750.4306, 1.0, -816.434326, 5.55337, 1.0, 0.0],\n",
              " [615.0, 59752.4147, 1.0, -1061.457031, 6.472994, 1.0, 1.9841000000014901],\n",
              " [615.0, 59767.3045, 1.0, -815.188599, 5.293019, 1.0, 16.873899999998685],\n",
              " [615.0, 59770.2256, 1.0, -820.042786, 5.875329, 1.0, 19.794999999998254],\n",
              " [615.0, 59779.3265, 1.0, -921.002502, 6.3068, 1.0, 28.895900000003166],\n",
              " [615.0, 59782.1974, 1.0, -449.095612, 4.02831, 1.0, 31.766799999997602],\n",
              " [615.0, 59797.2938, 1.0, 35.511822, 3.163646, 1.0, 46.86319999999978],\n",
              " [615.0, 59800.3244, 1.0, 129.541901, 4.358776, 1.0, 49.89379999999801],\n",
              " [615.0, 59807.1815, 1.0, -420.796417, 4.037735, 1.0, 56.75089999999909],\n",
              " [615.0, 59810.1122, 1.0, -527.020325, 4.204173, 1.0, 59.68160000000353],\n",
              " [615.0, 59813.1122, 1.0, -1100.440063, 6.709106, 1.0, 62.68160000000353],\n",
              " [615.0, 59835.0678, 1.0, -178.149399, 3.809858, 1.0, 84.63719999999739],\n",
              " [615.0, 59839.0384, 1.0, -953.883728, 6.03541, 1.0, 88.60779999999795],\n",
              " [615.0, 59842.0285, 1.0, -1003.971497, 6.256784, 1.0, 91.59790000000066],\n",
              " [615.0, 59854.0873, 1.0, 217.894211, 3.332742, 1.0, 103.65669999999955],\n",
              " [615.0, 59857.0531, 1.0, 646.523193, 5.291624, 1.0, 106.62249999999767],\n",
              " [615.0, 59864.0239, 1.0, -942.167908, 5.916004, 1.0, 113.59330000000045],\n",
              " [615.0, 59867.0255, 1.0, -910.677734, 5.852032, 1.0, 116.59490000000369],\n",
              " [615.0, 59870.0272, 1.0, 659.486694, 4.991051, 1.0, 119.59659999999712],\n",
              " [615.0, 59873.0289, 1.0, -98.796974, 3.034533, 1.0, 122.59829999999783],\n",
              " [615.0, 59884.09, 1.0, -437.42511, 3.831595, 1.0, 133.65939999999682],\n",
              " [615.0, 59887.0375, 1.0, -743.267212, 5.624708, 1.0, 136.60689999999886],\n",
              " [615.0, 60124.2618, 1.0, -878.043396, 6.210247, 1.0, 373.83120000000054],\n",
              " [615.0, 60153.2351, 1.0, -917.875488, 5.951387, 1.0, 402.80449999999837],\n",
              " [615.0, 60162.1554, 1.0, -62.120552, 3.818642, 1.0, 411.7248000000036],\n",
              " [615.0, 60165.1446, 1.0, -836.233154, 5.405759, 1.0, 414.71399999999994],\n",
              " [615.0, 60168.1337, 1.0, -1077.3479, 6.591075, 1.0, 417.7030999999988],\n",
              " [615.0, 60181.3223, 1.0, -339.875153, 3.626661, 1.0, 430.8917000000001],\n",
              " [615.0, 60184.3701, 1.0, -1028.441528, 6.719577, 1.0, 433.9395000000004],\n",
              " [615.0, 60194.1652, 1.0, 276.757751, 3.594162, 1.0, 443.7346000000034],\n",
              " [615.0, 60197.1258, 1.0, 650.984314, 4.970811, 1.0, 446.69520000000193],\n",
              " [615.0, 60208.0307, 1.0, -1094.027588, 6.71734, 1.0, 457.6001000000033],\n",
              " [615.0, 60211.0202, 1.0, -370.189575, 4.525907, 1.0, 460.58959999999934],\n",
              " [615.0, 60221.023, 1.0, -1086.77771, 6.6201, 1.0, 470.59240000000136],\n",
              " [615.0, 60224.0217, 1.0, 346.335083, 3.835582, 1.0, 473.5910999999978],\n",
              " [615.0, 60227.0228, 1.0, 356.63269, 3.856145, 1.0, 476.59219999999914],\n",
              " [615.0, 60237.2283, 1.0, -1098.651489, 6.689435, 1.0, 486.7977000000028],\n",
              " [615.0, 60240.03, 1.0, 14.526012, 3.783879, 0.0, 489.59939999999915],\n",
              " [615.0, 60249.0415, 1.0, 660.626343, 4.961018, 1.0, 498.6108999999997],\n",
              " [615.0, 60490.2725, 1.0, -624.518799, 4.704853, 1.0, 739.8418999999994],\n",
              " [615.0, 60493.245, 1.0, -1031.102905, 6.378702, 1.0, 742.8144000000029],\n",
              " [615.0, 60508.2715, 1.0, -32.986282, 4.440859, 0.0, 757.8409000000029],\n",
              " [615.0, 60532.3565, 1.0, 566.281433, 4.607503, 1.0, 781.925900000002],\n",
              " [615.0, 60535.133, 1.0, -1084.891113, 6.952323, 1.0, 784.702400000002],\n",
              " [615.0, 60538.2428, 1.0, 51.060081, 3.762334, 1.0, 787.8122000000003],\n",
              " [615.0, 60546.3482, 1.0, 142.089966, 4.065646, 1.0, 795.9176000000007],\n",
              " [615.0, 60549.0956, 1.0, -1076.6521, 6.604701, 1.0, 798.6650000000009],\n",
              " [615.0, 60567.2897, 1.0, -972.201111, 6.347886, 1.0, 816.8591000000015],\n",
              " [615.0, 60574.1195, 1.0, -812.792908, 5.570116, 1.0, 823.688900000001],\n",
              " [615.0, 60577.0263, 1.0, -963.21698, 6.13461, 1.0, 826.595699999998],\n",
              " [615.0, 60580.0173, 1.0, 655.284058, 5.148244, 1.0, 829.5866999999998],\n",
              " [615.0, 60593.0713, 1.0, 205.029755, 3.258004, 1.0, 842.6407000000036],\n",
              " [615.0, 60596.0381, 1.0, -388.231476, 4.931039, 1.0, 845.6074999999983],\n",
              " [615.0, 60603.0286, 1.0, 70.494507, 3.060846, 1.0, 852.5979999999981],\n",
              " [615.0, 60606.0303, 1.0, 457.502197, 4.17364, 1.0, 855.5996999999988],\n",
              " [615.0, 60609.0323, 1.0, -537.169312, 4.090708, 1.0, 858.6016999999993],\n",
              " [615.0, 60621.181, 1.0, -607.040771, 4.452463, 1.0, 870.7503999999972],\n",
              " [615.0, 60624.1836, 1.0, 607.047668, 5.140991, 1.0, 873.752999999997]]"
            ]
          },
          "metadata": {},
          "execution_count": 157
        }
      ]
    },
    {
      "cell_type": "markdown",
      "source": [
        "# Test interpolation"
      ],
      "metadata": {
        "id": "6XzKtmJzRL-I"
      }
    },
    {
      "cell_type": "code",
      "source": [
        "# making sure this works\n",
        "df = pd.DataFrame(lcvs_tolist[0], columns=lcvs.columns)"
      ],
      "metadata": {
        "id": "hcFOGdxSLi-j"
      },
      "execution_count": 158,
      "outputs": []
    },
    {
      "cell_type": "code",
      "source": [
        "intervals = np.linspace(0, df['time_from_start'].max(), num=100)\n",
        "interpolation = interpolate.interp1d(x = df['time_from_start'], y = df['flux'])\n",
        "evenint = interpolation(intervals)"
      ],
      "metadata": {
        "id": "NgyyrkL7OEW_"
      },
      "execution_count": 164,
      "outputs": []
    },
    {
      "cell_type": "code",
      "source": [
        "fig, ax = plt.subplots()\n",
        "ax.scatter(intervals, evenint, label=\"interpolated\")\n",
        "ax.scatter(df['time_from_start'], df['flux'], label=\"original\")\n",
        "ax.legend()"
      ],
      "metadata": {
        "colab": {
          "base_uri": "https://localhost:8080/",
          "height": 283
        },
        "id": "kj9vkS4MOH3X",
        "outputId": "2f784c61-2940-493d-f439-b2bb66313101"
      },
      "execution_count": 163,
      "outputs": [
        {
          "output_type": "execute_result",
          "data": {
            "text/plain": [
              "<matplotlib.legend.Legend at 0x7f52ed0b3f50>"
            ]
          },
          "metadata": {},
          "execution_count": 163
        },
        {
          "output_type": "display_data",
          "data": {
            "text/plain": [
              "<Figure size 432x288 with 1 Axes>"
            ],
            "image/png": "[encoded data removed]"
          },
          "metadata": {
            "needs_background": "light"
          }
        }
      ]
    },
    {
      "cell_type": "markdown",
      "source": [
        "Fig. 1: scatter plot of object 615, passband 1 and its interpolation. Honestly, it's not amazing but I feel like I understand what's going on here more than I did with Gaussian processes and at least I know how that's going to affect my outputs for this homework?"
      ],
      "metadata": {
        "id": "GQFJ_tP3Qg-P"
      }
    },
    {
      "cell_type": "code",
      "source": [
        "garbage_in = [df.iloc[0]['object_id'], df.iloc[0]['passband'], intervals, evenint]"
      ],
      "metadata": {
        "id": "5GziUKlFS__m"
      },
      "execution_count": 173,
      "outputs": []
    },
    {
      "cell_type": "markdown",
      "source": [
        "# Interpolating\n",
        "\n",
        "I'm just using the scipy interpolate method because I don't feel like I really understand what I was doing with Gaussian Proccesses on our last assignment to use them in any meaningful and/or sophisticated way. "
      ],
      "metadata": {
        "id": "hplz80tjMFbA"
      }
    },
    {
      "cell_type": "code",
      "source": [
        "reshaped_lcvs = []\n",
        "\n",
        "for index in range(0, len(lcvs_tolist)):\n",
        "  df = pd.DataFrame(lcvs_tolist[index], columns=lcvs.columns)\n",
        "  intervals = np.linspace(0, df['time_from_start'].max(), num=100) # even if timescales are different, all samples are equal length\n",
        "  interpolation = interpolate.interp1d(x = df['time_from_start'], y = df['flux'])\n",
        "  evenint = interpolation(intervals)\n",
        "  garbage_in = [df.iloc[0]['object_id'], df.iloc[0]['passband'], intervals, evenint] # I am making a joke\n",
        "  reshaped_lcvs.append(garbage_in)"
      ],
      "metadata": {
        "id": "TTsHJIl37esq"
      },
      "execution_count": 176,
      "outputs": []
    },
    {
      "cell_type": "code",
      "source": [
        "final_interpolated_flux = []\n",
        "for ids in lcvs['object_id'].unique():\n",
        "  bands = []\n",
        "  for index in range(0, len(reshaped_lcvs)):\n",
        "    if reshaped_lcvs[index][0] == ids:\n",
        "      bands.append(reshaped_lcvs[index][3])\n",
        "  final_interpolated_flux.append(bands)\n"
      ],
      "metadata": {
        "id": "KjlcTOFYUNnl"
      },
      "execution_count": 188,
      "outputs": []
    },
    {
      "cell_type": "code",
      "source": [
        "np.save('garbage.npy', final_interpolated_flux)"
      ],
      "metadata": {
        "id": "TAhMty3MWrJS"
      },
      "execution_count": 191,
      "outputs": []
    }
  ]
}