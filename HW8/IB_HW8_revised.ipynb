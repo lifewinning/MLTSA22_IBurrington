{
  "cells": [
    {
      "cell_type": "markdown",
      "metadata": {
        "id": "view-in-github",
        "colab_type": "text"
      },
      "source": [
        "<a href=\"https://colab.research.google.com/github/lifewinning/MLTSA22_IBurrington/blob/main/HW8/IB_HW8_revised.ipynb\" target=\"_parent\"><img src=\"https://colab.research.google.com/assets/colab-badge.svg\" alt=\"Open In Colab\"/></a>"
      ]
    },
    {
      "cell_type": "markdown",
      "metadata": {
        "id": "_KNFSY3-vaMn"
      },
      "source": [
        "# Notebook setup and packages installation"
      ]
    },
    {
      "cell_type": "code",
      "execution_count": null,
      "metadata": {
        "colab": {
          "base_uri": "https://localhost:8080/"
        },
        "id": "-G6oPTITlVYd",
        "outputId": "6a6ab74c-1c7f-4ff4-e543-85f4c3ac7e81"
      },
      "outputs": [
        {
          "output_type": "stream",
          "name": "stdout",
          "text": [
            "Populating the interactive namespace from numpy and matplotlib\n"
          ]
        }
      ],
      "source": [
        "import pandas as pd\n",
        "import numpy as np\n",
        "import pylab as pl\n",
        "import os\n",
        "from scipy import interpolate\n",
        "pl.style.use('seaborn')\n",
        "%pylab inline\n"
      ]
    },
    {
      "cell_type": "code",
      "execution_count": null,
      "metadata": {
        "colab": {
          "base_uri": "https://localhost:8080/"
        },
        "id": "3JrSePFCQmVQ",
        "outputId": "50b00c22-042a-4d27-c9e4-bda7c9574e8c"
      },
      "outputs": [
        {
          "output_type": "stream",
          "name": "stdout",
          "text": [
            "Drive already mounted at /content/gdrive; to attempt to forcibly remount, call drive.mount(\"/content/gdrive\", force_remount=True).\n"
          ]
        }
      ],
      "source": [
        "from google.colab import drive\n",
        "drive.mount(\"/content/gdrive\")"
      ]
    },
    {
      "cell_type": "code",
      "execution_count": null,
      "metadata": {
        "colab": {
          "base_uri": "https://localhost:8080/"
        },
        "id": "cfCQuTPvSTaO",
        "outputId": "dc06480e-9a11-4960-8ac7-ef1d1be63512"
      },
      "outputs": [
        {
          "output_type": "stream",
          "name": "stdout",
          "text": [
            "/content/gdrive/MyDrive/MLTSA22/PLAsTiCC2018\n"
          ]
        }
      ],
      "source": [
        "cd /content/gdrive/MyDrive/MLTSA22/PLAsTiCC2018/"
      ]
    },
    {
      "cell_type": "code",
      "execution_count": null,
      "metadata": {
        "id": "B3GeSII5fsgF"
      },
      "outputs": [],
      "source": [
        "lcvs = pd.read_csv('training_set.csv')"
      ]
    },
    {
      "cell_type": "code",
      "execution_count": null,
      "metadata": {
        "colab": {
          "base_uri": "https://localhost:8080/",
          "height": 206
        },
        "id": "EH5b4mS849qS",
        "outputId": "b7a71340-999b-4880-cdf4-75e60efb8e81"
      },
      "outputs": [
        {
          "output_type": "execute_result",
          "data": {
            "text/plain": [
              "   object_id         mjd  passband        flux   flux_err  detected\n",
              "0        615  59750.4229         2 -544.810303   3.622952         1\n",
              "1        615  59750.4306         1 -816.434326   5.553370         1\n",
              "2        615  59750.4383         3 -471.385529   3.801213         1\n",
              "3        615  59750.4450         4 -388.984985  11.395031         1\n",
              "4        615  59752.4070         2 -681.858887   4.041204         1"
            ],
            "text/html": [
              "\n",
              "  <div id=\"df-3529f9a9-2c76-48a2-8268-4e9f0359440e\">\n",
              "    <div class=\"colab-df-container\">\n",
              "      <div>\n",
              "<style scoped>\n",
              "    .dataframe tbody tr th:only-of-type {\n",
              "        vertical-align: middle;\n",
              "    }\n",
              "\n",
              "    .dataframe tbody tr th {\n",
              "        vertical-align: top;\n",
              "    }\n",
              "\n",
              "    .dataframe thead th {\n",
              "        text-align: right;\n",
              "    }\n",
              "</style>\n",
              "<table border=\"1\" class=\"dataframe\">\n",
              "  <thead>\n",
              "    <tr style=\"text-align: right;\">\n",
              "      <th></th>\n",
              "      <th>object_id</th>\n",
              "      <th>mjd</th>\n",
              "      <th>passband</th>\n",
              "      <th>flux</th>\n",
              "      <th>flux_err</th>\n",
              "      <th>detected</th>\n",
              "    </tr>\n",
              "  </thead>\n",
              "  <tbody>\n",
              "    <tr>\n",
              "      <th>0</th>\n",
              "      <td>615</td>\n",
              "      <td>59750.4229</td>\n",
              "      <td>2</td>\n",
              "      <td>-544.810303</td>\n",
              "      <td>3.622952</td>\n",
              "      <td>1</td>\n",
              "    </tr>\n",
              "    <tr>\n",
              "      <th>1</th>\n",
              "      <td>615</td>\n",
              "      <td>59750.4306</td>\n",
              "      <td>1</td>\n",
              "      <td>-816.434326</td>\n",
              "      <td>5.553370</td>\n",
              "      <td>1</td>\n",
              "    </tr>\n",
              "    <tr>\n",
              "      <th>2</th>\n",
              "      <td>615</td>\n",
              "      <td>59750.4383</td>\n",
              "      <td>3</td>\n",
              "      <td>-471.385529</td>\n",
              "      <td>3.801213</td>\n",
              "      <td>1</td>\n",
              "    </tr>\n",
              "    <tr>\n",
              "      <th>3</th>\n",
              "      <td>615</td>\n",
              "      <td>59750.4450</td>\n",
              "      <td>4</td>\n",
              "      <td>-388.984985</td>\n",
              "      <td>11.395031</td>\n",
              "      <td>1</td>\n",
              "    </tr>\n",
              "    <tr>\n",
              "      <th>4</th>\n",
              "      <td>615</td>\n",
              "      <td>59752.4070</td>\n",
              "      <td>2</td>\n",
              "      <td>-681.858887</td>\n",
              "      <td>4.041204</td>\n",
              "      <td>1</td>\n",
              "    </tr>\n",
              "  </tbody>\n",
              "</table>\n",
              "</div>\n",
              "      <button class=\"colab-df-convert\" onclick=\"convertToInteractive('df-3529f9a9-2c76-48a2-8268-4e9f0359440e')\"\n",
              "              title=\"Convert this dataframe to an interactive table.\"\n",
              "              style=\"display:none;\">\n",
              "        \n",
              "  <svg xmlns=\"http://www.w3.org/2000/svg\" height=\"24px\"viewBox=\"0 0 24 24\"\n",
              "       width=\"24px\">\n",
              "    <path d=\"M0 0h24v24H0V0z\" fill=\"none\"/>\n",
              "    <path d=\"M18.56 5.44l.94 2.06.94-2.06 2.06-.94-2.06-.94-.94-2.06-.94 2.06-2.06.94zm-11 1L8.5 8.5l.94-2.06 2.06-.94-2.06-.94L8.5 2.5l-.94 2.06-2.06.94zm10 10l.94 2.06.94-2.06 2.06-.94-2.06-.94-.94-2.06-.94 2.06-2.06.94z\"/><path d=\"M17.41 7.96l-1.37-1.37c-.4-.4-.92-.59-1.43-.59-.52 0-1.04.2-1.43.59L10.3 9.45l-7.72 7.72c-.78.78-.78 2.05 0 2.83L4 21.41c.39.39.9.59 1.41.59.51 0 1.02-.2 1.41-.59l7.78-7.78 2.81-2.81c.8-.78.8-2.07 0-2.86zM5.41 20L4 18.59l7.72-7.72 1.47 1.35L5.41 20z\"/>\n",
              "  </svg>\n",
              "      </button>\n",
              "      \n",
              "  <style>\n",
              "    .colab-df-container {\n",
              "      display:flex;\n",
              "      flex-wrap:wrap;\n",
              "      gap: 12px;\n",
              "    }\n",
              "\n",
              "    .colab-df-convert {\n",
              "      background-color: #E8F0FE;\n",
              "      border: none;\n",
              "      border-radius: 50%;\n",
              "      cursor: pointer;\n",
              "      display: none;\n",
              "      fill: #1967D2;\n",
              "      height: 32px;\n",
              "      padding: 0 0 0 0;\n",
              "      width: 32px;\n",
              "    }\n",
              "\n",
              "    .colab-df-convert:hover {\n",
              "      background-color: #E2EBFA;\n",
              "      box-shadow: 0px 1px 2px rgba(60, 64, 67, 0.3), 0px 1px 3px 1px rgba(60, 64, 67, 0.15);\n",
              "      fill: #174EA6;\n",
              "    }\n",
              "\n",
              "    [theme=dark] .colab-df-convert {\n",
              "      background-color: #3B4455;\n",
              "      fill: #D2E3FC;\n",
              "    }\n",
              "\n",
              "    [theme=dark] .colab-df-convert:hover {\n",
              "      background-color: #434B5C;\n",
              "      box-shadow: 0px 1px 3px 1px rgba(0, 0, 0, 0.15);\n",
              "      filter: drop-shadow(0px 1px 2px rgba(0, 0, 0, 0.3));\n",
              "      fill: #FFFFFF;\n",
              "    }\n",
              "  </style>\n",
              "\n",
              "      <script>\n",
              "        const buttonEl =\n",
              "          document.querySelector('#df-3529f9a9-2c76-48a2-8268-4e9f0359440e button.colab-df-convert');\n",
              "        buttonEl.style.display =\n",
              "          google.colab.kernel.accessAllowed ? 'block' : 'none';\n",
              "\n",
              "        async function convertToInteractive(key) {\n",
              "          const element = document.querySelector('#df-3529f9a9-2c76-48a2-8268-4e9f0359440e');\n",
              "          const dataTable =\n",
              "            await google.colab.kernel.invokeFunction('convertToInteractive',\n",
              "                                                     [key], {});\n",
              "          if (!dataTable) return;\n",
              "\n",
              "          const docLinkHtml = 'Like what you see? Visit the ' +\n",
              "            '<a target=\"_blank\" href=https://colab.research.google.com/notebooks/data_table.ipynb>data table notebook</a>'\n",
              "            + ' to learn more about interactive tables.';\n",
              "          element.innerHTML = '';\n",
              "          dataTable['output_type'] = 'display_data';\n",
              "          await google.colab.output.renderOutput(dataTable, element);\n",
              "          const docLink = document.createElement('div');\n",
              "          docLink.innerHTML = docLinkHtml;\n",
              "          element.appendChild(docLink);\n",
              "        }\n",
              "      </script>\n",
              "    </div>\n",
              "  </div>\n",
              "  "
            ]
          },
          "metadata": {},
          "execution_count": 24
        }
      ],
      "source": [
        "lcvs.head()"
      ]
    },
    {
      "cell_type": "markdown",
      "metadata": {
        "id": "dvf0NyI9lVYj"
      },
      "source": [
        "# Extract features"
      ]
    },
    {
      "cell_type": "markdown",
      "metadata": {
        "id": "lkH4s9bW6jGA"
      },
      "source": [
        "## Creating a common time frame"
      ]
    },
    {
      "cell_type": "code",
      "execution_count": null,
      "metadata": {
        "id": "-OtM4SDV6hmQ"
      },
      "outputs": [],
      "source": [
        "lcvs['time_from_start'] = lcvs.groupby(['object_id', 'passband'])[['mjd']].apply(lambda x: x - x.min())"
      ]
    },
    {
      "cell_type": "code",
      "source": [
        "lcvs['flux'] = lcvs.groupby(['object_id', 'passband'])[['flux']].apply(lambda x: (x - x.mean())/ x.std())"
      ],
      "metadata": {
        "id": "ij7JvNXDhp84"
      },
      "execution_count": null,
      "outputs": []
    },
    {
      "cell_type": "code",
      "execution_count": null,
      "metadata": {
        "colab": {
          "base_uri": "https://localhost:8080/",
          "height": 424
        },
        "id": "B8y42-KxK3cH",
        "outputId": "06200f2e-f145-4a5d-8be8-bf1450cd1dc5"
      },
      "outputs": [
        {
          "output_type": "execute_result",
          "data": {
            "text/plain": [
              "         object_id         mjd  passband      flux   flux_err  detected  \\\n",
              "0              615  59750.4229         2 -0.902317   3.622952         1   \n",
              "1              615  59750.4306         1 -0.715759   5.553370         1   \n",
              "2              615  59750.4383         3 -1.044293   3.801213         1   \n",
              "3              615  59750.4450         4 -1.141283  11.395031         1   \n",
              "4              615  59752.4070         2 -1.203442   4.041204         1   \n",
              "...            ...         ...       ...       ...        ...       ...   \n",
              "1421700  130779836  60555.9838         4 -0.320627  46.477093         0   \n",
              "1421701  130779836  60560.0459         1 -0.593104  18.947685         0   \n",
              "1421702  130779836  60571.0225         5 -0.474355  50.695290         0   \n",
              "1421703  130779836  60585.9974         4 -0.319136  44.819859         0   \n",
              "1421704  130779836  60588.0372         0 -0.402645  51.665123         0   \n",
              "\n",
              "         time_from_start  \n",
              "0                 0.0000  \n",
              "1                 0.0000  \n",
              "2                 0.0000  \n",
              "3                 0.0000  \n",
              "4                 1.9841  \n",
              "...                  ...  \n",
              "1421700         833.6750  \n",
              "1421701         806.8968  \n",
              "1421702         855.6906  \n",
              "1421703         863.6886  \n",
              "1421704         770.8949  \n",
              "\n",
              "[1421705 rows x 7 columns]"
            ],
            "text/html": [
              "\n",
              "  <div id=\"df-3fb030c8-9abe-4dd4-b1cf-6600372f47ed\">\n",
              "    <div class=\"colab-df-container\">\n",
              "      <div>\n",
              "<style scoped>\n",
              "    .dataframe tbody tr th:only-of-type {\n",
              "        vertical-align: middle;\n",
              "    }\n",
              "\n",
              "    .dataframe tbody tr th {\n",
              "        vertical-align: top;\n",
              "    }\n",
              "\n",
              "    .dataframe thead th {\n",
              "        text-align: right;\n",
              "    }\n",
              "</style>\n",
              "<table border=\"1\" class=\"dataframe\">\n",
              "  <thead>\n",
              "    <tr style=\"text-align: right;\">\n",
              "      <th></th>\n",
              "      <th>object_id</th>\n",
              "      <th>mjd</th>\n",
              "      <th>passband</th>\n",
              "      <th>flux</th>\n",
              "      <th>flux_err</th>\n",
              "      <th>detected</th>\n",
              "      <th>time_from_start</th>\n",
              "    </tr>\n",
              "  </thead>\n",
              "  <tbody>\n",
              "    <tr>\n",
              "      <th>0</th>\n",
              "      <td>615</td>\n",
              "      <td>59750.4229</td>\n",
              "      <td>2</td>\n",
              "      <td>-0.902317</td>\n",
              "      <td>3.622952</td>\n",
              "      <td>1</td>\n",
              "      <td>0.0000</td>\n",
              "    </tr>\n",
              "    <tr>\n",
              "      <th>1</th>\n",
              "      <td>615</td>\n",
              "      <td>59750.4306</td>\n",
              "      <td>1</td>\n",
              "      <td>-0.715759</td>\n",
              "      <td>5.553370</td>\n",
              "      <td>1</td>\n",
              "      <td>0.0000</td>\n",
              "    </tr>\n",
              "    <tr>\n",
              "      <th>2</th>\n",
              "      <td>615</td>\n",
              "      <td>59750.4383</td>\n",
              "      <td>3</td>\n",
              "      <td>-1.044293</td>\n",
              "      <td>3.801213</td>\n",
              "      <td>1</td>\n",
              "      <td>0.0000</td>\n",
              "    </tr>\n",
              "    <tr>\n",
              "      <th>3</th>\n",
              "      <td>615</td>\n",
              "      <td>59750.4450</td>\n",
              "      <td>4</td>\n",
              "      <td>-1.141283</td>\n",
              "      <td>11.395031</td>\n",
              "      <td>1</td>\n",
              "      <td>0.0000</td>\n",
              "    </tr>\n",
              "    <tr>\n",
              "      <th>4</th>\n",
              "      <td>615</td>\n",
              "      <td>59752.4070</td>\n",
              "      <td>2</td>\n",
              "      <td>-1.203442</td>\n",
              "      <td>4.041204</td>\n",
              "      <td>1</td>\n",
              "      <td>1.9841</td>\n",
              "    </tr>\n",
              "    <tr>\n",
              "      <th>...</th>\n",
              "      <td>...</td>\n",
              "      <td>...</td>\n",
              "      <td>...</td>\n",
              "      <td>...</td>\n",
              "      <td>...</td>\n",
              "      <td>...</td>\n",
              "      <td>...</td>\n",
              "    </tr>\n",
              "    <tr>\n",
              "      <th>1421700</th>\n",
              "      <td>130779836</td>\n",
              "      <td>60555.9838</td>\n",
              "      <td>4</td>\n",
              "      <td>-0.320627</td>\n",
              "      <td>46.477093</td>\n",
              "      <td>0</td>\n",
              "      <td>833.6750</td>\n",
              "    </tr>\n",
              "    <tr>\n",
              "      <th>1421701</th>\n",
              "      <td>130779836</td>\n",
              "      <td>60560.0459</td>\n",
              "      <td>1</td>\n",
              "      <td>-0.593104</td>\n",
              "      <td>18.947685</td>\n",
              "      <td>0</td>\n",
              "      <td>806.8968</td>\n",
              "    </tr>\n",
              "    <tr>\n",
              "      <th>1421702</th>\n",
              "      <td>130779836</td>\n",
              "      <td>60571.0225</td>\n",
              "      <td>5</td>\n",
              "      <td>-0.474355</td>\n",
              "      <td>50.695290</td>\n",
              "      <td>0</td>\n",
              "      <td>855.6906</td>\n",
              "    </tr>\n",
              "    <tr>\n",
              "      <th>1421703</th>\n",
              "      <td>130779836</td>\n",
              "      <td>60585.9974</td>\n",
              "      <td>4</td>\n",
              "      <td>-0.319136</td>\n",
              "      <td>44.819859</td>\n",
              "      <td>0</td>\n",
              "      <td>863.6886</td>\n",
              "    </tr>\n",
              "    <tr>\n",
              "      <th>1421704</th>\n",
              "      <td>130779836</td>\n",
              "      <td>60588.0372</td>\n",
              "      <td>0</td>\n",
              "      <td>-0.402645</td>\n",
              "      <td>51.665123</td>\n",
              "      <td>0</td>\n",
              "      <td>770.8949</td>\n",
              "    </tr>\n",
              "  </tbody>\n",
              "</table>\n",
              "<p>1421705 rows × 7 columns</p>\n",
              "</div>\n",
              "      <button class=\"colab-df-convert\" onclick=\"convertToInteractive('df-3fb030c8-9abe-4dd4-b1cf-6600372f47ed')\"\n",
              "              title=\"Convert this dataframe to an interactive table.\"\n",
              "              style=\"display:none;\">\n",
              "        \n",
              "  <svg xmlns=\"http://www.w3.org/2000/svg\" height=\"24px\"viewBox=\"0 0 24 24\"\n",
              "       width=\"24px\">\n",
              "    <path d=\"M0 0h24v24H0V0z\" fill=\"none\"/>\n",
              "    <path d=\"M18.56 5.44l.94 2.06.94-2.06 2.06-.94-2.06-.94-.94-2.06-.94 2.06-2.06.94zm-11 1L8.5 8.5l.94-2.06 2.06-.94-2.06-.94L8.5 2.5l-.94 2.06-2.06.94zm10 10l.94 2.06.94-2.06 2.06-.94-2.06-.94-.94-2.06-.94 2.06-2.06.94z\"/><path d=\"M17.41 7.96l-1.37-1.37c-.4-.4-.92-.59-1.43-.59-.52 0-1.04.2-1.43.59L10.3 9.45l-7.72 7.72c-.78.78-.78 2.05 0 2.83L4 21.41c.39.39.9.59 1.41.59.51 0 1.02-.2 1.41-.59l7.78-7.78 2.81-2.81c.8-.78.8-2.07 0-2.86zM5.41 20L4 18.59l7.72-7.72 1.47 1.35L5.41 20z\"/>\n",
              "  </svg>\n",
              "      </button>\n",
              "      \n",
              "  <style>\n",
              "    .colab-df-container {\n",
              "      display:flex;\n",
              "      flex-wrap:wrap;\n",
              "      gap: 12px;\n",
              "    }\n",
              "\n",
              "    .colab-df-convert {\n",
              "      background-color: #E8F0FE;\n",
              "      border: none;\n",
              "      border-radius: 50%;\n",
              "      cursor: pointer;\n",
              "      display: none;\n",
              "      fill: #1967D2;\n",
              "      height: 32px;\n",
              "      padding: 0 0 0 0;\n",
              "      width: 32px;\n",
              "    }\n",
              "\n",
              "    .colab-df-convert:hover {\n",
              "      background-color: #E2EBFA;\n",
              "      box-shadow: 0px 1px 2px rgba(60, 64, 67, 0.3), 0px 1px 3px 1px rgba(60, 64, 67, 0.15);\n",
              "      fill: #174EA6;\n",
              "    }\n",
              "\n",
              "    [theme=dark] .colab-df-convert {\n",
              "      background-color: #3B4455;\n",
              "      fill: #D2E3FC;\n",
              "    }\n",
              "\n",
              "    [theme=dark] .colab-df-convert:hover {\n",
              "      background-color: #434B5C;\n",
              "      box-shadow: 0px 1px 3px 1px rgba(0, 0, 0, 0.15);\n",
              "      filter: drop-shadow(0px 1px 2px rgba(0, 0, 0, 0.3));\n",
              "      fill: #FFFFFF;\n",
              "    }\n",
              "  </style>\n",
              "\n",
              "      <script>\n",
              "        const buttonEl =\n",
              "          document.querySelector('#df-3fb030c8-9abe-4dd4-b1cf-6600372f47ed button.colab-df-convert');\n",
              "        buttonEl.style.display =\n",
              "          google.colab.kernel.accessAllowed ? 'block' : 'none';\n",
              "\n",
              "        async function convertToInteractive(key) {\n",
              "          const element = document.querySelector('#df-3fb030c8-9abe-4dd4-b1cf-6600372f47ed');\n",
              "          const dataTable =\n",
              "            await google.colab.kernel.invokeFunction('convertToInteractive',\n",
              "                                                     [key], {});\n",
              "          if (!dataTable) return;\n",
              "\n",
              "          const docLinkHtml = 'Like what you see? Visit the ' +\n",
              "            '<a target=\"_blank\" href=https://colab.research.google.com/notebooks/data_table.ipynb>data table notebook</a>'\n",
              "            + ' to learn more about interactive tables.';\n",
              "          element.innerHTML = '';\n",
              "          dataTable['output_type'] = 'display_data';\n",
              "          await google.colab.output.renderOutput(dataTable, element);\n",
              "          const docLink = document.createElement('div');\n",
              "          docLink.innerHTML = docLinkHtml;\n",
              "          element.appendChild(docLink);\n",
              "        }\n",
              "      </script>\n",
              "    </div>\n",
              "  </div>\n",
              "  "
            ]
          },
          "metadata": {},
          "execution_count": 27
        }
      ],
      "source": [
        "lcvs"
      ]
    },
    {
      "cell_type": "markdown",
      "metadata": {
        "id": "9S5OhxKLHFYH"
      },
      "source": [
        "## Organize timeseries by ID and passband \n",
        "Method for turning groupbys to lists found [here](https://stackoverflow.com/questions/50961341/convert-groupby-values-into-list-of-arrays), there is probably a simpler way to do this than what I'm doing but I could not figure out how to turn a groupby into multiple dataframes? "
      ]
    },
    {
      "cell_type": "code",
      "execution_count": null,
      "metadata": {
        "id": "WwGYwyVD73os"
      },
      "outputs": [],
      "source": [
        "lcvs_group = lcvs.groupby(['object_id','passband'])"
      ]
    },
    {
      "cell_type": "code",
      "execution_count": null,
      "metadata": {
        "id": "FtRE2_DyH-IL"
      },
      "outputs": [],
      "source": [
        "lcvs_tolist = lcvs_group.apply(pd.Series.tolist).tolist()"
      ]
    },
    {
      "cell_type": "code",
      "execution_count": null,
      "metadata": {
        "colab": {
          "base_uri": "https://localhost:8080/"
        },
        "id": "7cCzMCJjLPRK",
        "outputId": "de7ae86a-2406-400d-9278-99d16998d0b6"
      },
      "outputs": [
        {
          "output_type": "execute_result",
          "data": {
            "text/plain": [
              "[[615.0, 59750.4306, 1.0, -0.71575856426247, 5.55337, 1.0, 0.0],\n",
              " [615.0,\n",
              "  59752.4147,\n",
              "  1.0,\n",
              "  -1.1229168813299064,\n",
              "  6.472994,\n",
              "  1.0,\n",
              "  1.9841000000014901],\n",
              " [615.0,\n",
              "  59767.3045,\n",
              "  1.0,\n",
              "  -0.7136885189217922,\n",
              "  5.293019,\n",
              "  1.0,\n",
              "  16.873899999998685],\n",
              " [615.0,\n",
              "  59770.2256,\n",
              "  1.0,\n",
              "  -0.721754802451111,\n",
              "  5.875329,\n",
              "  1.0,\n",
              "  19.794999999998254],\n",
              " [615.0,\n",
              "  59779.3265,\n",
              "  1.0,\n",
              "  -0.8895212470267939,\n",
              "  6.3068,\n",
              "  1.0,\n",
              "  28.895900000003166],\n",
              " [615.0,\n",
              "  59782.1974,\n",
              "  1.0,\n",
              "  -0.10534569421454326,\n",
              "  4.02831,\n",
              "  1.0,\n",
              "  31.766799999997602],\n",
              " [615.0,\n",
              "  59797.2938,\n",
              "  1.0,\n",
              "  0.6999345644692752,\n",
              "  3.163646,\n",
              "  1.0,\n",
              "  46.86319999999978],\n",
              " [615.0,\n",
              "  59800.3244,\n",
              "  1.0,\n",
              "  0.8561859156220515,\n",
              "  4.358776,\n",
              "  1.0,\n",
              "  49.89379999999801],\n",
              " [615.0,\n",
              "  59807.1815,\n",
              "  1.0,\n",
              "  -0.058320449715005065,\n",
              "  4.037735,\n",
              "  1.0,\n",
              "  56.75089999999909],\n",
              " [615.0,\n",
              "  59810.1122,\n",
              "  1.0,\n",
              "  -0.23483448996938153,\n",
              "  4.204173,\n",
              "  1.0,\n",
              "  59.68160000000353],\n",
              " [615.0,\n",
              "  59813.1122,\n",
              "  1.0,\n",
              "  -1.1876956360306437,\n",
              "  6.709106,\n",
              "  1.0,\n",
              "  62.68160000000353],\n",
              " [615.0,\n",
              "  59835.0678,\n",
              "  1.0,\n",
              "  0.3448901486265325,\n",
              "  3.809858,\n",
              "  1.0,\n",
              "  84.63719999999739],\n",
              " [615.0,\n",
              "  59839.0384,\n",
              "  1.0,\n",
              "  -0.9441605288895667,\n",
              "  6.03541,\n",
              "  1.0,\n",
              "  88.60779999999795],\n",
              " [615.0,\n",
              "  59842.0285,\n",
              "  1.0,\n",
              "  -1.027392210344159,\n",
              "  6.256784,\n",
              "  1.0,\n",
              "  91.59790000000066],\n",
              " [615.0,\n",
              "  59854.0873,\n",
              "  1.0,\n",
              "  1.0030024232947607,\n",
              "  3.332742,\n",
              "  1.0,\n",
              "  103.65669999999955],\n",
              " [615.0, 59857.0531, 1.0, 1.71526235429768, 5.291624, 1.0, 106.62249999999767],\n",
              " [615.0,\n",
              "  59864.0239,\n",
              "  1.0,\n",
              "  -0.9246921553187786,\n",
              "  5.916004,\n",
              "  1.0,\n",
              "  113.59330000000045],\n",
              " [615.0,\n",
              "  59867.0255,\n",
              "  1.0,\n",
              "  -0.8723644077739102,\n",
              "  5.852032,\n",
              "  1.0,\n",
              "  116.59490000000369],\n",
              " [615.0,\n",
              "  59870.0272,\n",
              "  1.0,\n",
              "  1.736804020203548,\n",
              "  4.991051,\n",
              "  1.0,\n",
              "  119.59659999999712],\n",
              " [615.0,\n",
              "  59873.0289,\n",
              "  1.0,\n",
              "  0.47675139723294224,\n",
              "  3.034533,\n",
              "  1.0,\n",
              "  122.59829999999783],\n",
              " [615.0,\n",
              "  59884.09,\n",
              "  1.0,\n",
              "  -0.08595262632047951,\n",
              "  3.831595,\n",
              "  1.0,\n",
              "  133.65939999999682],\n",
              " [615.0,\n",
              "  59887.0375,\n",
              "  1.0,\n",
              "  -0.5941755501457933,\n",
              "  5.624708,\n",
              "  1.0,\n",
              "  136.60689999999886],\n",
              " [615.0,\n",
              "  60124.2618,\n",
              "  1.0,\n",
              "  -0.8181353838200285,\n",
              "  6.210247,\n",
              "  1.0,\n",
              "  373.83120000000054],\n",
              " [615.0,\n",
              "  60153.2351,\n",
              "  1.0,\n",
              "  -0.8843250356892106,\n",
              "  5.951387,\n",
              "  1.0,\n",
              "  402.80449999999837],\n",
              " [615.0,\n",
              "  60162.1554,\n",
              "  1.0,\n",
              "  0.5376972196112199,\n",
              "  3.818642,\n",
              "  1.0,\n",
              "  411.7248000000036],\n",
              " [615.0,\n",
              "  60165.1446,\n",
              "  1.0,\n",
              "  -0.7486586070906953,\n",
              "  5.405759,\n",
              "  1.0,\n",
              "  414.71399999999994],\n",
              " [615.0,\n",
              "  60168.1337,\n",
              "  1.0,\n",
              "  -1.1493230034840927,\n",
              "  6.591075,\n",
              "  1.0,\n",
              "  417.7030999999988],\n",
              " [615.0,\n",
              "  60181.3223,\n",
              "  1.0,\n",
              "  0.07614776483355998,\n",
              "  3.626661,\n",
              "  1.0,\n",
              "  430.8917000000001],\n",
              " [615.0,\n",
              "  60184.3701,\n",
              "  1.0,\n",
              "  -1.0680544691358413,\n",
              "  6.719577,\n",
              "  1.0,\n",
              "  433.9395000000004],\n",
              " [615.0,\n",
              "  60194.1652,\n",
              "  1.0,\n",
              "  1.1008169498425422,\n",
              "  3.594162,\n",
              "  1.0,\n",
              "  443.7346000000034],\n",
              " [615.0,\n",
              "  60197.1258,\n",
              "  1.0,\n",
              "  1.7226754734965488,\n",
              "  4.970811,\n",
              "  1.0,\n",
              "  446.69520000000193],\n",
              " [615.0,\n",
              "  60208.0307,\n",
              "  1.0,\n",
              "  -1.1770399193319114,\n",
              "  6.71734,\n",
              "  1.0,\n",
              "  457.6001000000033],\n",
              " [615.0,\n",
              "  60211.0202,\n",
              "  1.0,\n",
              "  0.02577378400434632,\n",
              "  4.525907,\n",
              "  1.0,\n",
              "  460.58959999999934],\n",
              " [615.0, 60221.023, 1.0, -1.1649926760961298, 6.6201, 1.0, 470.59240000000136],\n",
              " [615.0,\n",
              "  60224.0217,\n",
              "  1.0,\n",
              "  1.2164347633148176,\n",
              "  3.835582,\n",
              "  1.0,\n",
              "  473.5910999999978],\n",
              " [615.0,\n",
              "  60227.0228,\n",
              "  1.0,\n",
              "  1.2335464686808237,\n",
              "  3.856145,\n",
              "  1.0,\n",
              "  476.59219999999914],\n",
              " [615.0,\n",
              "  60237.2283,\n",
              "  1.0,\n",
              "  -1.1847235327727412,\n",
              "  6.689435,\n",
              "  1.0,\n",
              "  486.7977000000028],\n",
              " [615.0, 60240.03, 1.0, 0.6650620938470241, 3.783879, 0.0, 489.59939999999915],\n",
              " [615.0,\n",
              "  60249.0415,\n",
              "  1.0,\n",
              "  1.7386977939617292,\n",
              "  4.961018,\n",
              "  1.0,\n",
              "  498.6108999999997],\n",
              " [615.0,\n",
              "  60490.2725,\n",
              "  1.0,\n",
              "  -0.39684933096333447,\n",
              "  4.704853,\n",
              "  1.0,\n",
              "  739.8418999999994],\n",
              " [615.0,\n",
              "  60493.245,\n",
              "  1.0,\n",
              "  -1.0724769237014373,\n",
              "  6.378702,\n",
              "  1.0,\n",
              "  742.8144000000029],\n",
              " [615.0,\n",
              "  60508.2715,\n",
              "  1.0,\n",
              "  0.5861101221713655,\n",
              "  4.440859,\n",
              "  0.0,\n",
              "  757.8409000000029],\n",
              " [615.0, 60532.3565, 1.0, 1.5819232828833425, 4.607503, 1.0, 781.925900000002],\n",
              " [615.0, 60535.133, 1.0, -1.1618576863836272, 6.952323, 1.0, 784.702400000002],\n",
              " [615.0,\n",
              "  60538.2428,\n",
              "  1.0,\n",
              "  0.7257713658700622,\n",
              "  3.762334,\n",
              "  1.0,\n",
              "  787.8122000000003],\n",
              " [615.0, 60546.3482, 1.0, 0.877037244595229, 4.065646, 1.0, 795.9176000000007],\n",
              " [615.0,\n",
              "  60549.0956,\n",
              "  1.0,\n",
              "  -1.1481667810147689,\n",
              "  6.604701,\n",
              "  1.0,\n",
              "  798.6650000000009],\n",
              " [615.0,\n",
              "  60567.2897,\n",
              "  1.0,\n",
              "  -0.9745988298435933,\n",
              "  6.347886,\n",
              "  1.0,\n",
              "  816.8591000000015],\n",
              " [615.0,\n",
              "  60574.1195,\n",
              "  1.0,\n",
              "  -0.7097075592153292,\n",
              "  5.570116,\n",
              "  1.0,\n",
              "  823.688900000001],\n",
              " [615.0, 60577.0263, 1.0, -0.9596697494619472, 6.13461, 1.0, 826.595699999998],\n",
              " [615.0, 60580.0173, 1.0, 1.729820429841965, 5.148244, 1.0, 829.5866999999998],\n",
              " [615.0,\n",
              "  60593.0713,\n",
              "  1.0,\n",
              "  0.9816253421179446,\n",
              "  3.258004,\n",
              "  1.0,\n",
              "  842.6407000000036],\n",
              " [615.0,\n",
              "  60596.0381,\n",
              "  1.0,\n",
              "  -0.004206743913902328,\n",
              "  4.931039,\n",
              "  1.0,\n",
              "  845.6074999999983],\n",
              " [615.0,\n",
              "  60603.0286,\n",
              "  1.0,\n",
              "  0.7580658758148922,\n",
              "  3.060846,\n",
              "  1.0,\n",
              "  852.5979999999981],\n",
              " [615.0, 60606.0303, 1.0, 1.4011630114560822, 4.17364, 1.0, 855.5996999999988],\n",
              " [615.0,\n",
              "  60609.0323,\n",
              "  1.0,\n",
              "  -0.25169923100168423,\n",
              "  4.090708,\n",
              "  1.0,\n",
              "  858.6016999999993],\n",
              " [615.0,\n",
              "  60621.181,\n",
              "  1.0,\n",
              "  -0.3678058002173265,\n",
              "  4.452463,\n",
              "  1.0,\n",
              "  870.7503999999972],\n",
              " [615.0, 60624.1836, 1.0, 1.6496652157616676, 5.140991, 1.0, 873.752999999997]]"
            ]
          },
          "metadata": {},
          "execution_count": 30
        }
      ],
      "source": [
        "lcvs_tolist[1]"
      ]
    },
    {
      "cell_type": "markdown",
      "metadata": {
        "id": "6XzKtmJzRL-I"
      },
      "source": [
        "# Test interpolation"
      ]
    },
    {
      "cell_type": "code",
      "execution_count": null,
      "metadata": {
        "id": "hcFOGdxSLi-j"
      },
      "outputs": [],
      "source": [
        "# making sure this works\n",
        "df = pd.DataFrame(lcvs_tolist[0], columns=lcvs.columns)"
      ]
    },
    {
      "cell_type": "code",
      "execution_count": null,
      "metadata": {
        "id": "NgyyrkL7OEW_"
      },
      "outputs": [],
      "source": [
        "intervals = np.linspace(0, df['time_from_start'].max(), num=100)\n",
        "interpolation = interpolate.interp1d(x = df['time_from_start'], y = df['flux'])\n",
        "evenint = interpolation(intervals)"
      ]
    },
    {
      "cell_type": "code",
      "execution_count": null,
      "metadata": {
        "colab": {
          "base_uri": "https://localhost:8080/",
          "height": 265
        },
        "id": "kj9vkS4MOH3X",
        "outputId": "f01067b5-0d39-4cda-c5ae-f7782226947d"
      },
      "outputs": [
        {
          "output_type": "display_data",
          "data": {
            "text/plain": [
              "<Figure size 432x288 with 1 Axes>"
            ],
            "image/png": "[encoded data removed]"
          },
          "metadata": {
            "needs_background": "light"
          }
        }
      ],
      "source": [
        "fig, ax = plt.subplots()\n",
        "ax.scatter(intervals, evenint, label=\"interpolated\")\n",
        "ax.scatter(df['time_from_start'], df['flux'], label=\"original\")\n",
        "ax.legend();"
      ]
    },
    {
      "cell_type": "markdown",
      "metadata": {
        "id": "GQFJ_tP3Qg-P"
      },
      "source": [
        "Fig. 1: scatter plot of object 615, passband 1 and its interpolation. Honestly, it's not amazing but I feel like I understand what's going on here more than I did with Gaussian processes and at least I know how that's going to affect my outputs for this homework?"
      ]
    },
    {
      "cell_type": "markdown",
      "metadata": {
        "id": "hplz80tjMFbA"
      },
      "source": [
        "# Interpolating\n",
        "\n",
        "I'm just using the scipy interpolate method because I don't feel like I really understand what I was doing with Gaussian Proccesses on our last assignment to use them in any meaningful and/or sophisticated way. "
      ]
    },
    {
      "cell_type": "code",
      "execution_count": null,
      "metadata": {
        "id": "TTsHJIl37esq"
      },
      "outputs": [],
      "source": [
        "reshaped_lcvs = []\n",
        "\n",
        "for index in range(0, len(lcvs_tolist)):\n",
        "  df = pd.DataFrame(lcvs_tolist[index], columns=lcvs.columns)\n",
        "  intervals = np.linspace(0, df['time_from_start'].max(), num=100) # even if timescales are different, all samples are equal length\n",
        "  interpolation = interpolate.interp1d(x = df['time_from_start'], y = df['flux'])\n",
        "  evenint = interpolation(intervals)\n",
        "  garbage_in = [evenint] # I am making a joke\n",
        "  reshaped_lcvs.append(garbage_in)"
      ]
    },
    {
      "cell_type": "code",
      "source": [
        "reshaped_lcvs = np.array(reshaped_lcvs)"
      ],
      "metadata": {
        "id": "QEET_fCkkF5B"
      },
      "execution_count": null,
      "outputs": []
    },
    {
      "cell_type": "code",
      "execution_count": null,
      "metadata": {
        "id": "TAhMty3MWrJS"
      },
      "outputs": [],
      "source": [
        "np.save('garbage_std.npy', reshaped_lcvs)"
      ]
    },
    {
      "cell_type": "markdown",
      "source": [
        "<font color=\"red\">FBB ok</font>\n"
      ],
      "metadata": {
        "id": "3LlKucgdkhYA"
      }
    }
  ],
  "metadata": {
    "colab": {
      "collapsed_sections": [],
      "name": "IB_HW8_revised",
      "provenance": [],
      "include_colab_link": true
    },
    "kernelspec": {
      "display_name": "Python 3",
      "language": "python",
      "name": "python3"
    },
    "language_info": {
      "codemirror_mode": {
        "name": "ipython",
        "version": 3
      },
      "file_extension": ".py",
      "mimetype": "text/x-python",
      "name": "python",
      "nbconvert_exporter": "python",
      "pygments_lexer": "ipython3",
      "version": "3.7.3"
    },
    "latex_envs": {
      "LaTeX_envs_menu_present": true,
      "autoclose": false,
      "autocomplete": true,
      "bibliofile": "biblio.bib",
      "cite_by": "apalike",
      "current_citInitial": 1,
      "eqLabelWithNumbers": true,
      "eqNumInitial": 1,
      "hotkeys": {
        "equation": "Ctrl-E",
        "itemize": "Ctrl-I"
      },
      "labels_anchors": false,
      "latex_user_defs": false,
      "report_style_numbering": false,
      "user_envs_cfg": false
    },
    "nbTranslate": {
      "displayLangs": [
        "*"
      ],
      "hotkey": "alt-t",
      "langInMainMenu": true,
      "sourceLang": "en",
      "targetLang": "fr",
      "useGoogleTranslate": true
    },
    "toc": {
      "base_numbering": 1,
      "nav_menu": {},
      "number_sections": true,
      "sideBar": true,
      "skip_h1_title": false,
      "title_cell": "Table of Contents",
      "title_sidebar": "Contents",
      "toc_cell": false,
      "toc_position": {},
      "toc_section_display": true,
      "toc_window_display": false
    }
  },
  "nbformat": 4,
  "nbformat_minor": 0
}